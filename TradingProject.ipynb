{
 "cells": [
  {
   "cell_type": "code",
   "execution_count": 260,
   "metadata": {
    "collapsed": false
   },
   "outputs": [],
   "source": [
    "import os\n",
    "import pandas as pd\n",
    "import numpy as np\n",
    "import matplotlib.pyplot as plt\n",
    "import Quandl\n",
    "\n",
    "dow_jones_codes = pd.read_csv(\"C:/Users/JohnSmith2/Downloads/dowjonesA.csv\")\n",
    "dj_df = pd.DataFrame(dow_jones_codes)\n",
    "dj_df = dj_df.ix[:,['name','free_code']]\n",
    "\n",
    "def get_rolling_mean(values, window):\n",
    "    \"\"\"Return rolling mean of given values, using specified window size.\"\"\"\n",
    "    return pd.rolling_mean(values, window=window)\n",
    "def get_rolling_std(values, window):\n",
    "    \"\"\"Return rolling standard deviation of given values, using specified window size\"\"\"\n",
    "    return pd.rolling_std(values, window=window)\n",
    "def get_bollinger_bands(rm, rstd):\n",
    "    \"\"\"Return upper and lower Bollinger Bands.\"\"\"\n",
    "    upper_band = rm + rstd * 2\n",
    "    lower_band = rm - rstd * 2\n",
    "    return upper_band, lower_band\n",
    "def compute_daily_returns(df):\n",
    "    \"\"\"Compute and return the daily return values.\"\"\"\n",
    "    daily_returns = (df / df.shift(1)) - 1\n",
    "    daily_returns.ix[0,:] = 0 #Pandas leaves the 0th row full of NaNs\n",
    "    return daily_returns\n",
    "def plot_data(df, title=\"Stock prices\", xlabel=\"Date\", ylabel=\"Price\"):\n",
    "    \"\"\"Plot stock prices with a custom title and meaningful axis labels.\"\"\"\n",
    "    ax = df.plot(title=title, fontsize=12)\n",
    "    ax.set_xlabel(xlabel)\n",
    "    ax.set_ylabel(ylabel)\n",
    "    plt.show()"
   ]
  },
  {
   "cell_type": "code",
   "execution_count": 213,
   "metadata": {
    "collapsed": false
   },
   "outputs": [
    {
     "name": "stdout",
     "output_type": "stream",
     "text": [
      "30\n",
      "['Johnson & Johnson', 'IBM', 'United Technologies', 'Nike', 'General Electric', 'The Home Depot', 'Verizon', \"McDonald's\", 'American Express', 'Coca-Cola', 'Caterpillar', 'Visa', 'Walt Disney', 'Boeing', 'Intel', 'Pfizer', 'Procter & Gamble', 'Wal-Mart', 'Merck', 'UnitedHealth Group', 'Cisco Systems', '3M', 'Microsoft', 'JPMorgan Chase', 'Apple', 'Travelers', 'DuPont', 'Goldman Sachs', 'Chevron', 'ExxonMobil']\n"
     ]
    }
   ],
   "source": [
    "def retrieveDowJonesData(dj_df):\n",
    "    dowJonesDict = {}\n",
    "    for name, value in zip(dj_df['name'], dj_df['free_code']):\n",
    "        each = Quandl.get(value, trim_start=\"2010-04-15\", trim_end=\"2016-04-15\", authtoken=\"gEC9xAKi4avigPpoQPX1\",\n",
    "                         returns='numpy')\n",
    "        df = pd.DataFrame(each)\n",
    "        dowJonesDict[name] = pd.DataFrame(df)\n",
    "    print len(dowJonesDict)\n",
    "    \n",
    "    return dowJonesDict\n",
    "dowJonesDict = retrieveDowJonesData(dj_df)\n",
    "print dowJonesDict.keys()"
   ]
  },
  {
   "cell_type": "code",
   "execution_count": 167,
   "metadata": {
    "collapsed": false
   },
   "outputs": [
    {
     "name": "stdout",
     "output_type": "stream",
     "text": [
      "(1491, 31)\n",
      "(1491, 31)\n"
     ]
    }
   ],
   "source": [
    "def createAdjVolAndCloseDfs(dowJonesDict):\n",
    "    i = 0\n",
    "    for each in dowJonesDict.keys():\n",
    "        if i == 0:\n",
    "            df = dowJonesDict[each]\n",
    "            adj_close_df = df[['Date','Adj. Close']].rename(columns={'Adj. Close': each})\n",
    "            adj_vol_df = df[['Date','Adj. Volume']].rename(columns={'Adj. Volume': each})\n",
    "            i = 1\n",
    "        else:\n",
    "            df = dowJonesDict[each]\n",
    "            next_adj_close_df = df[['Date','Adj. Close']].rename(columns={'Adj. Close': each})\n",
    "            next_adj_vol_df = df[['Date','Adj. Volume']].rename(columns={'Adj. Volume': each})\n",
    "            adj_close_df = pd.merge(adj_close_df, next_adj_close_df, on='Date')\n",
    "            adj_vol_df = pd.merge(adj_vol_df, next_adj_vol_df, on='Date')\n",
    "            \n",
    "    print adj_close_df.shape\n",
    "    print adj_vol_df.shape\n",
    "    \n",
    "    return adj_close_df, adj_vol_df\n",
    "adj_close_df, adj_vol_df = createAdjVolAndCloseDfs(dowJonesDict)"
   ]
  },
  {
   "cell_type": "code",
   "execution_count": 261,
   "metadata": {
    "collapsed": false
   },
   "outputs": [
    {
     "name": "stdout",
     "output_type": "stream",
     "text": [
      "(1471, 30)\n",
      "(1471, 30)\n"
     ]
    }
   ],
   "source": [
    "def computeAndPlotBollingerBands(adj_close_df):\n",
    "    #Compute Bollinger Bands\n",
    "    # 1. Compute rolling mean\n",
    "    adj_close_df = adj_close_df.set_index(['Date'])\n",
    "    i = 0\n",
    "    for each in adj_close_df:\n",
    "        rm_SPY = get_rolling_mean(adj_close_df[each], window=20)\n",
    "        # 2. Compute rolling standard deviation\n",
    "        rstd_SPY = get_rolling_std(adj_close_df[each], window=20)\n",
    "        # 3. Compute upper and lower bands\n",
    "        upper_band, lower_band = get_bollinger_bands(rm_SPY, rstd_SPY)\n",
    "\n",
    "        if i == 0:\n",
    "            upper_band_df = pd.DataFrame(upper_band)\n",
    "            lower_band_df = pd.DataFrame(lower_band)\n",
    "            i = 1\n",
    "        else:\n",
    "            next_upper_df = pd.DataFrame(upper_band)\n",
    "            next_lower_df = pd.DataFrame(lower_band)\n",
    "            upper_band_df = pd.merge(upper_band_df, next_upper_df, left_index=True, right_index=True)\n",
    "            lower_band_df = pd.merge(lower_band_df, next_lower_df, left_index=True, right_index=True)\n",
    "    \n",
    "    upper_band_df = upper_band_df[20:]\n",
    "    lower_band_df = lower_band_df[20:]\n",
    "    \n",
    "    print upper_band_df.shape\n",
    "    print lower_band_df.shape\n",
    "    \n",
    "    \"\"\"\n",
    "    # Plot raw SPY values, rolling mean and Bollinger Bands\n",
    "    ax = adj_close_df['IBM'][20:160].plot(title=\"Bollinger Bands\", label='IBM')\n",
    "    rm_SPY.plot(label='Rolling mean', ax=ax)\n",
    "    upper_band.plot(label='upper band', ax=ax)\n",
    "    lower_band.plot(label='lower band', ax=ax)\n",
    "\n",
    "    # Add axis labels and legend\n",
    "    ax.set_xlabel(\"Date\")\n",
    "    ax.set_ylabel(\"Price\")\n",
    "    ax.legend(loc='upper left')\n",
    "    plt.show()\n",
    "    \"\"\"\n",
    "    \n",
    "    return upper_band_df, lower_band_df\n",
    "    \n",
    "def computeAndPlotDailyReturns(adj_close_df):\n",
    "    #Compute daily returns\n",
    "    adj_close_df = adj_close_df.set_index(['Date'])\n",
    "    adj_close_df = adj_close_df[['IBM','Nike']][0:5]\n",
    "    print adj_close_df\n",
    "    daily_returns = compute_daily_returns(adj_close_df)\n",
    "    plot_data(daily_returns, title=\"Daily returns\", ylabel=\"Daily returns\")\n",
    "\n",
    "#computeAndPlotDailyReturns(adj_close_df)\n",
    "upper_band_df, lower_band_df = computeAndPlotBollingerBands(adj_close_df)"
   ]
  },
  {
   "cell_type": "code",
   "execution_count": null,
   "metadata": {
    "collapsed": false
   },
   "outputs": [],
   "source": []
  },
  {
   "cell_type": "code",
   "execution_count": null,
   "metadata": {
    "collapsed": true
   },
   "outputs": [],
   "source": []
  }
 ],
 "metadata": {
  "kernelspec": {
   "display_name": "Python 2",
   "language": "python",
   "name": "python2"
  },
  "language_info": {
   "codemirror_mode": {
    "name": "ipython",
    "version": 2
   },
   "file_extension": ".py",
   "mimetype": "text/x-python",
   "name": "python",
   "nbconvert_exporter": "python",
   "pygments_lexer": "ipython2",
   "version": "2.7.11"
  }
 },
 "nbformat": 4,
 "nbformat_minor": 0
}
