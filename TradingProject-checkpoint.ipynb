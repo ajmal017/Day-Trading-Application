{
 "cells": [
  {
   "cell_type": "code",
   "execution_count": 172,
   "metadata": {
    "collapsed": false
   },
   "outputs": [
    {
     "name": "stdout",
     "output_type": "stream",
     "text": [
      "Done\n"
     ]
    }
   ],
   "source": [
    "import os\n",
    "import math\n",
    "import Quandl\n",
    "import pickle\n",
    "import numpy as np\n",
    "import pandas as pd\n",
    "import scipy.optimize as spo\n",
    "import matplotlib.pyplot as plt\n",
    "\n",
    "\n",
    "def retrieve_data():\n",
    "    \"\"\"Retrieve the dictionaries filled with each companies dataframes in\n",
    "       both the s&p 500 and dow jones indexes, and the third dictionary\n",
    "       contains several measures of features. The data is taken from pickled\n",
    "       data files that were retrieved with an earlier retrieve data function\n",
    "       that retrieved the data from the Quandl server. If you need to add more\n",
    "       data, you need to use the previous retrieval method which will be listed\n",
    "       soon. You can also use Quandl.get(\"CODE\") where CODE is a specific quandl\n",
    "       code\"\"\"\n",
    "    \n",
    "    # Read from file\n",
    "    dow_myfile = open('dowfile.pickle', 'rb')\n",
    "    sp_myfile = open('spfile.pickle', 'rb')\n",
    "    nasd_myfile = open('nasdtotalfile.pickle', 'rb')\n",
    "    nyse_myfile = open('nysetotalfile.pickle', 'rb')\n",
    "    feat_myfile = open('featfile.pickle', 'rb')\n",
    "    adj_closing = open('adjclosingpricesfile.pickle', 'rb')\n",
    "    norm_closing = open('closingpricesfile.pickle', 'rb')\n",
    "    adj_volume = open('adjvolumefile.pickle', 'rb')\n",
    "    norm_volume = open('volumefile.pickle', 'rb')\n",
    "    bol_bands = open('bolbandsfile.pickle', 'rb')\n",
    "    momentum = open('momentumfile.pickle', 'rb')\n",
    "    pe_ratio = open('peratiofile.pickle', 'rb')\n",
    "    \n",
    "    # Store the retrieved dictionaries in variables\n",
    "    dowJonesDict = pickle.load(dow_myfile)\n",
    "    sp500Dict = pickle.load(sp_myfile)\n",
    "    nasdDict = pickle.load(nasd_myfile)\n",
    "    nyseDict = pickle.load(nyse_myfile)\n",
    "    featuresDict = pickle.load(feat_myfile)\n",
    "    adjCloseDict = pickle.load(adj_closing)\n",
    "    normCloseDict = pickle.load(norm_closing)\n",
    "    adjVolumeDict = pickle.load(adj_volume)\n",
    "    normVolumeDict = pickle.load(norm_volume)\n",
    "    bolBandsDict = pickle.load(bol_bands)\n",
    "    momentumDict = pickle.load(momentum)\n",
    "    peRatioDict = pickle.load(pe_ratio)\n",
    "    \n",
    "    # Close the files\n",
    "    dow_myfile.close()\n",
    "    sp_myfile.close()\n",
    "    nasd_myfile.close()\n",
    "    nyse_myfile.close()\n",
    "    feat_myfile.close()\n",
    "    adj_closing.close()\n",
    "    norm_closing.close()\n",
    "    adj_volume.close()\n",
    "    norm_volume.close()\n",
    "    bol_bands.close()\n",
    "    momentum.close()\n",
    "    pe_ratio.close()\n",
    "    \n",
    "    index_dict_array = [dowJonesDict, sp500Dict, nasdDict, nyseDict]\n",
    "    adjusted_dict_array = [adjCloseDict, normCloseDict, adjVolumeDict, normVolumeDict]\n",
    "    technical_indicators = [bolBandsDict, momentumDict, peRatioDict]\n",
    "    \n",
    "    return index_dict_array, adjusted_dict_array, featuresDict, technical_indicators\n",
    "\n",
    "index_dict_array, adjusted_dict_array, featuresDict, technical_indicators = retrieve_data()\n",
    "print \"Done\""
   ]
  },
  {
   "cell_type": "code",
   "execution_count": 148,
   "metadata": {
    "collapsed": false
   },
   "outputs": [],
   "source": [
    "def get_rolling_mean(values, window):\n",
    "    \"\"\"Return rolling mean of given values, using specified window size.\"\"\"\n",
    "    return pd.rolling_mean(values, window=window)\n",
    "\n",
    "def get_rolling_std(values, window):\n",
    "    \"\"\"Return rolling standard deviation of given values, using specified window size\"\"\"\n",
    "    return pd.rolling_std(values, window=window)\n",
    "    \n",
    "def get_bollinger_bands(rm, rstd):\n",
    "    \"\"\"Return upper and lower Bollinger Bands.\"\"\"\n",
    "    upper_band = rm + rstd * 2\n",
    "    lower_band = rm - rstd * 2\n",
    "    return upper_band, lower_band\n",
    "    \n",
    "def compute_daily_returns(df):\n",
    "    \"\"\"Compute and return the daily return values.\"\"\"\n",
    "    daily_returns = (df / df.shift(1)) - 1\n",
    "    daily_returns.ix[0,:] = 0 #Pandas leaves the 0th row full of NaNs\n",
    "    return daily_returns\n",
    "\n",
    "def normalize_data(df_dict):\n",
    "    \"\"\"Normalize the adjusted_closing_price dataframes\"\"\"\n",
    "    normalize = []\n",
    "    for each in df_dict:\n",
    "        norm_df =  each / each.ix[0,:]\n",
    "        normalize.append(norm_df)\n",
    "    return normalize\n",
    "\n",
    "def retrieve_daily_returns(df):\n",
    "    dailyReturnsDict = {}\n",
    "    for each_dict in df:\n",
    "        for each_key in each_dict.keys():\n",
    "            each_index = each_dict[each_key]\n",
    "            daily_returns = compute_daily_returns(each_index)\n",
    "            dailyReturnsDict[each_key] = daily_returns\n",
    "    return dailyReturnsDict\n",
    "\n",
    "df = [adjusted_dict_array[0],adjusted_dict_array[1]]\n",
    "dailyReturnsDict = retrieve_daily_returns(df)\n",
    "print \"Done\""
   ]
  },
  {
   "cell_type": "code",
   "execution_count": 154,
   "metadata": {
    "collapsed": false
   },
   "outputs": [],
   "source": [
    "def compute_bollinger_bands(adjCloseDict, window):\n",
    "    \"\"\"Take the adjusted closing prices dataframe and compute the bollinger bands for each company,\n",
    "       using 20 day windows for now. Will adjust the window date as needed. Computes both the upper\n",
    "       and lower bands and stores them into dataframes.\n",
    "       Note, first window is blank so you need to adjust for that by using data from 20 days forward.\"\"\"\n",
    "    \n",
    "    eachIndexBolBandsDict = {}\n",
    "    for each_key in adjCloseDict.keys():\n",
    "        each_index = adjCloseDict[each_key]\n",
    "        i = True\n",
    "        for each in each_index.keys():\n",
    "            rm_company = get_rolling_mean(each_index[each], window)\n",
    "            rstd_company = get_rolling_std(each_index[each], window)\n",
    "            upper_band, lower_band = get_bollinger_bands(rm_company, rstd_company)\n",
    "\n",
    "            if i == True:\n",
    "                upper_band_df = pd.DataFrame(upper_band)\n",
    "                lower_band_df = pd.DataFrame(lower_band)\n",
    "                rm_company_df = pd.DataFrame(rm_company)\n",
    "                i = False\n",
    "            else:\n",
    "                next_upper_df = pd.DataFrame(upper_band)\n",
    "                next_lower_df = pd.DataFrame(lower_band)\n",
    "                next_rm_df    = pd.DataFrame(rm_company)\n",
    "\n",
    "                upper_band_df = upper_band_df.join(next_upper_df, how='outer')\n",
    "                lower_band_df = lower_band_df.join(next_lower_df, how='outer')\n",
    "                rm_company_df = rm_company_df.join(next_rm_df, how='outer')\n",
    "\n",
    "        eachIndexBolBandsDict[each_key] = [upper_band_df, lower_band_df, rm_company_df]\n",
    "\n",
    "    return eachIndexBolBandsDict\n",
    "\n",
    "def get_momentum(adjCloseDict, window):\n",
    "    i,y = 0,True\n",
    "    temp_array = []\n",
    "    eachIndexMomentumDict = {}\n",
    "    for each_key in adjCloseDict.keys():\n",
    "        each_index = adjCloseDict[each_key]\n",
    "        for each_company in each_index.keys():\n",
    "            each_column = each_index[each_company]\n",
    "            each_column = each_column.as_matrix()\n",
    "            for each in xrange(len(each_column)):\n",
    "                if i > window:\n",
    "                    temp = each_column[i]/each_column[i-window] - 1\n",
    "                    temp_array.append(temp)\n",
    "                else:\n",
    "                    temp_array.append(0.)\n",
    "                i += 1\n",
    "            if y == True:\n",
    "                df = pd.DataFrame(temp_array, index=each_index.index, columns=[each_company])\n",
    "                y = False\n",
    "            else:\n",
    "                df2 = pd.DataFrame(temp_array, index=each_index.index, columns=[each_company])\n",
    "                df = df.join(df2, how='outer')\n",
    "            temp_array = []\n",
    "            i = 0\n",
    "        y = True\n",
    "\n",
    "        eachIndexMomentumDict[each_key] = df\n",
    "\n",
    "    return eachIndexMomentumDict\n",
    "\n",
    "def pe_ratio(adjCloseDict, window):\n",
    "    i,y = 0,True\n",
    "    pe_array = []\n",
    "    eachIndexPeRatioDict = {}\n",
    "    for each_key in adjCloseDict.keys():\n",
    "        each_index = adjCloseDict[each_key]\n",
    "        for each_comp in each_index.keys():\n",
    "            each_column = each_index[each_comp]\n",
    "            each_column = each_column.as_matrix()\n",
    "            for each in xrange(len(each_column)):\n",
    "                if i > window:\n",
    "                    each_return = each_column[i] - each_column[i-window]\n",
    "                    each_pe = each_column[i]/each_return\n",
    "                    pe_array.append(each_pe)\n",
    "                else:\n",
    "                    pe_array.append(0.)\n",
    "                i += 1\n",
    "            if y == True:\n",
    "                pe_df = pd.DataFrame(pe_array, index=each_index.index, columns=[each_comp])\n",
    "                y = False\n",
    "            else:\n",
    "                pe_df2 = pd.DataFrame(pe_array, index=each_index.index, columns=[each_comp])\n",
    "                pe_df = pe_df.join(pe_df2, how='outer')\n",
    "            pe_array = []\n",
    "            i = 0\n",
    "        y = True\n",
    "\n",
    "        eachIndexPeRatioDict[each_key] = pe_df\n",
    "  \n",
    "    return eachIndexPeRatioDict"
   ]
  },
  {
   "cell_type": "code",
   "execution_count": 155,
   "metadata": {
    "collapsed": false,
    "scrolled": false
   },
   "outputs": [
    {
     "name": "stdout",
     "output_type": "stream",
     "text": [
      "DONE\n"
     ]
    }
   ],
   "source": [
    "eachIndexBolBandsDict = compute_bollinger_bands(adjusted_dict_array[0], 20)\n",
    "eachIndexMomentumDict = get_momentum(adjusted_dict_array[0], 20)\n",
    "eachIndexPeRatioDict = pe_ratio(adjusted_dict_array[0], 20)\n",
    "print \"DONE\""
   ]
  },
  {
   "cell_type": "code",
   "execution_count": 169,
   "metadata": {
    "collapsed": false
   },
   "outputs": [
    {
     "name": "stdout",
     "output_type": "stream",
     "text": [
      "Done\n"
     ]
    }
   ],
   "source": [
    "def plot_data(df, title=\"Stock prices\", xlabel=\"Date\", ylabel=\"Price\"):\n",
    "    \"\"\"Plot stock prices with a custom title and meaningful axis labels.\"\"\"\n",
    "    ax = df.plot(title=title, fontsize=12)\n",
    "    ax.set_xlabel(xlabel)\n",
    "    ax.set_ylabel(ylabel)\n",
    "    plt.show()\n",
    "    \n",
    "def plot_bollinger(adj_close_df):\n",
    "    \"\"\"Takes the rolling means and the upper and lower bands and plots the data. Currently using only\n",
    "       a 140 day graph, but can easily change to show less or more information by changing the adjusting\n",
    "       closing price dataframe.\"\"\"\n",
    "    rm_SPY = get_rolling_mean(adj_close_df, window=20)\n",
    "    rstd_SPY = get_rolling_std(adj_close_df, window=20)\n",
    "    upper_band, lower_band = get_bollinger_bands(rm_SPY, rstd_SPY)\n",
    "    # Plot raw SPY values, rolling mean and Bollinger Bands\n",
    "    ax = adj_close_df[20:160].plot(title=\"Bollinger Bands\", label='IBM')\n",
    "    rm_SPY[20:].plot(label='Rolling mean', ax=ax)\n",
    "    upper_band[20:].plot(label='upper band', ax=ax)\n",
    "    lower_band[20:].plot(label='lower band', ax=ax)\n",
    "    # Add axis labels and legend\n",
    "    ax.set_xlabel(\"Date\")\n",
    "    ax.set_ylabel(\"Price\")\n",
    "    ax.legend(loc='upper left')\n",
    "    plt.show()    \n",
    "      \n",
    "def compute_and_plot_daily_returns(adj_close_df):\n",
    "    \"\"\"Compute the daily return values for each company by calling compute_daily_returns() and then\n",
    "       plot the returned values for a 20 day period. This 20 day period can be adjusted as necessary\n",
    "       by increasing or decreasing the size of the adj_close_df when this function is called. \"\"\"\n",
    "    #Compute daily returns\n",
    "    daily_returns = compute_daily_returns(adj_close_df)\n",
    "    plot_data(daily_returns, title=\"Daily returns\", ylabel=\"Daily returns\")\n",
    "    \n",
    "plot_bollinger(adjusted_dict_array[0]['adjDowDict'][['IBM']][:160])\n",
    "compute_and_plot_daily_returns(adjusted_dict_array[0]['adjDowDict'][0:20])\n",
    "print \"Done\""
   ]
  },
  {
   "cell_type": "code",
   "execution_count": null,
   "metadata": {
    "collapsed": false
   },
   "outputs": [],
   "source": []
  },
  {
   "cell_type": "code",
   "execution_count": null,
   "metadata": {
    "collapsed": false
   },
   "outputs": [],
   "source": []
  },
  {
   "cell_type": "code",
   "execution_count": null,
   "metadata": {
    "collapsed": false
   },
   "outputs": [],
   "source": []
  },
  {
   "cell_type": "code",
   "execution_count": null,
   "metadata": {
    "collapsed": false
   },
   "outputs": [],
   "source": []
  },
  {
   "cell_type": "code",
   "execution_count": null,
   "metadata": {
    "collapsed": true
   },
   "outputs": [],
   "source": []
  }
 ],
 "metadata": {
  "kernelspec": {
   "display_name": "Python 2",
   "language": "python",
   "name": "python2"
  },
  "language_info": {
   "codemirror_mode": {
    "name": "ipython",
    "version": 2
   },
   "file_extension": ".py",
   "mimetype": "text/x-python",
   "name": "python",
   "nbconvert_exporter": "python",
   "pygments_lexer": "ipython2",
   "version": "2.7.11"
  }
 },
 "nbformat": 4,
 "nbformat_minor": 0
}
